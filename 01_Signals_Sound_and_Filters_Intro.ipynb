{
 "cells": [
  {
   "cell_type": "markdown",
   "metadata": {},
   "source": [
    "# Signals, Sound and Filters\n",
    "### by Angel Toporchev a.k.a.  [Akeyzerr](https://softuni.bg/users/profile/show/akeyzerr)"
   ]
  },
  {
   "cell_type": "markdown",
   "metadata": {},
   "source": [
    "**Table of contents:**\n",
    "\n",
    "* *Introduction*\n",
    "* Act I\n",
    "    * [Ch.1 - Signals](./02_Signals_Sound_and_Filters_A1C1.ipynb)\n",
    "        - 1.1 What is *Signal*\n",
    "        - 1.2 Signal domains\n",
    "            * Analog Signals\n",
    "            * Digital Signal\n",
    "            * Signal spaces\n",
    "    * [Ch.2 - Sound](./03_Signals_Sound_and_Filters_A1C2.ipynb)\n",
    "        - 2.1 Acoustic Sound\n",
    "        - 2.2 Digital Representation\n",
    "        - 2.3 Signal Types\n",
    "        - 2.4 Noise Signals\n",
    "    * [Ch.3 Sound in Python](./04_Signals_Sound_and_Filters_A1C3.ipynb)\n",
    "        - 3.1 Generating sound\n",
    "        - 3.2 Basic manipulation   \n",
    "* Act II\n",
    "    * [Ch.1 Filters](./05_Signals_Sound_and_Filters_A2C1.ipynb)\n",
    "        - 1.1 Filters\n",
    "        - 1.2 Filter types\n",
    "    * Ch.2 Spectrum\n",
    "        - 2.1 What is *Spectrum*\n",
    "        - 2.2 Spectrogram\n",
    "        - 2.3 Spectral Decomposition\n",
    "    * [Ch.3 The Fourier Chapter](./06_Signals_Sound_and_Filters_A2C3.ipynb)\n",
    "        - 3.0 Preface\n",
    "        - 3.1 Fourier analysis\n",
    "        - 3.2 Fourier Transform in a nutshell\n",
    "        - 3.3 Discrete Fourier Transform\n",
    "        - 3.4 Fast Fourier Transformation\n",
    "        - 3.5 Window function\n",
    "        - 3.6 Short-Time Fourier Transform\n",
    "        - 3.7 Role of the window function\n",
    "\n",
    "* [Act. III](./07_Signals_Sound_and_Filters_A3.ipynb)\n",
    "    * Ch.1 Phase\n",
    "        - 1.1 Phase\n",
    "        - 1.2 The role of the phase\n",
    "    * Ch.2 What does the phase sound like\n",
    "* [Acknowledgements](./08_Signals_Sound_and_Filters_Outro.ipynb)  "
   ]
  },
  {
   "cell_type": "markdown",
   "metadata": {},
   "source": [
    "*Mathematician's son asked him \"Daddy, how to write the digit 8?\" to which the mathematician answered with smile \"Very simple, my son! You just take the symbol for infinity and apply a 90° rotation!\"*"
   ]
  },
  {
   "cell_type": "markdown",
   "metadata": {},
   "source": [
    "# Introducion\n",
    "\n",
    "Signals and signal processing is one of the coolest things that not enough people know about. It can be a fundamental perspective for one's learning process. The ideas behind are really profound and they can change how you see the world and how you hear the world. A lot of what our senses do is signal processing in various ways. So understanding this means understanding how you perceive the world. The math is elegant and the fundamental algorithm* (the **Fast Fourier Transform**) is one of the most important ideas of the XX c.\n",
    "\n",
    "The problem is that if you didn't do an engineering degree you probably didn't study FFT, and even if you did, you probably studied it mathematically.\n",
    "\n",
    "Well, Python has the complex arithmetic covered, so we can skip ~7 chapters about complex numbers, vector spaces,  convolution, calculus and go straight to the good stuff. We will get to the FFT using Python and Sound.\n",
    "\n",
    "In the first act of this journey of discovery we will get to know what signal is (Chapter 1), what sound is(Chapter 2) and what properties do we need to understand in general, in order to know how to generate basic waves (Chapter 3). We'll touch up on some suuuuper basic sound manipulation. Then, in the second act we get to learn about filtering and meet some acronyms - namely the **DFT**, the **FFT** and even the **STFT**. Once we get introduced to these fellas, we can finally make a stop in act three to talk briefly about *phase* and do a very cool experiment."
   ]
  }
 ],
 "metadata": {
  "kernelspec": {
   "display_name": "Python 3",
   "language": "python",
   "name": "python3"
  },
  "language_info": {
   "codemirror_mode": {
    "name": "ipython",
    "version": 3
   },
   "file_extension": ".py",
   "mimetype": "text/x-python",
   "name": "python",
   "nbconvert_exporter": "python",
   "pygments_lexer": "ipython3",
   "version": "3.8.8"
  }
 },
 "nbformat": 4,
 "nbformat_minor": 2
}

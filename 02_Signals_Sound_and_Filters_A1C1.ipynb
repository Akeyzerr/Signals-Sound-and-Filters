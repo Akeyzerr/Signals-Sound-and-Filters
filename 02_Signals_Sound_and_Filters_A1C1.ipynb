{
 "cells": [
  {
   "cell_type": "markdown",
   "metadata": {},
   "source": [
    "* Back to [Introduction](./01_Signals_Sound_and_Filters_Intro.ipynb)"
   ]
  },
  {
   "cell_type": "markdown",
   "metadata": {},
   "source": [
    "### ACT I, Chapter I\n",
    "# 1.1 WHAT IS SIGNAL?\n",
    "\n",
    "There are A LOT of definitions for what exactly \"signal\" is. The most generalizing and abstract one that I could muster out of my own brain is:\n",
    "```\n",
    "A signal is a continuous stream of data about any measurable \n",
    "variation of a medium that conveys information.\n",
    "```\n",
    "Any information may be conveyed by an analog signal; often such a signal is a measured response to changes in physical phenomena, such as sound, light, temperature, position or pressure."
   ]
  },
  {
   "cell_type": "markdown",
   "metadata": {},
   "source": [
    "But it **really** depends on the vantage point of interest by which you are going for the definition of the therm. Electronic signals, mechanical vibrations, and signals in many other subjects have their own-flavored definitions. There are signals that vary in space rather than time, like elevations along a terrain. And there are signal abstractions that exist in more than one dimension, like an image, which you can think of as the distribution of light on a screen - a signal that varies in two-dimensional space. Or a sequence of images like in a video/movie, which is a signal that varies in two-dimensional space and time."
   ]
  },
  {
   "cell_type": "markdown",
   "metadata": {},
   "source": [
    "As I mentioned in the very beginning, the focus here will be on the technical side(read \"Science and Technology\") and more precisely on *signal processing*. This unfortunately narrows the search for **Our** definition not by much. Definitions in this still gargantuan field vary from a highly technical ones like:\n",
    "```\n",
    "In technical fields such as engineering or computer science, a signal is a function that conveys information\n",
    "about the state or behavior of a physical system.\n",
    "```\n",
    "Some mildly understandable like:\n",
    "```\n",
    "A Signal represents a continuous mathematical function defined for all values of time. ```\n",
    "To some lighthearted and almost understandable ones like: \n",
    "```\n",
    "A signal represents a quantity that varies in time.\n",
    "```\n",
    "But for the sake of setting a not-so-mind-boggling scope of the project we have to skip the greater part of a field of truly amazing domains and focus on signal processing, which includes basic processes for synthesizing, transforming, and analyzing signals. And so, to move on,  we will accept the following:\n",
    "\n",
    "$$In\\ signal\\ processing,\\ a\\ signal\\ is\\ a\\ function\\ that\\ conveys\\ information\\ about\\ a\\ phenomenon.$$\n",
    "$$If\\ you\\ evaluate\\ a\\ signal\\ at\\ a\\ sequence\\ of\\ equally-spaced\\ times,\\ the\\ result\\ is\\ a\\ Wave.$$"
   ]
  },
  {
   "cell_type": "markdown",
   "metadata": {},
   "source": [
    "All these definitions are abstract at best, and we even haven't introduced the accompanying definitions \"analog\" and \"digital\". So lets get into it with a concrete example:  *sound*."
   ]
  },
  {
   "cell_type": "markdown",
   "metadata": {},
   "source": [
    "But first, a word from our sponsor! Just kidding. We'll continue after a few very important words of caution about this study/series of notebooks: **We are going to be skipping tons of information and gloss over many, many therms and definitions. But this can't be a comprehensive body of work that will magically explain the complete nature of a physical phenomenon, the not-so-fully understood mechanics of perceiving that phenomenon(look up Psychoacoustics), the mastery of recording and reproducing sound, the information theory, the digital domain, signal theory and a lot more.**\n",
    "\n",
    "To iterate, the goal is to shed a slither of light on the practical use of the mathematics of Jean-Baptiste Joseph Fourier and touch on these subjects and more, through a deepened understanding of Sound and some Python for the examples."
   ]
  },
  {
   "cell_type": "markdown",
   "metadata": {},
   "source": [
    "# 1.2 SIGNAL DOMAINS\n",
    "### AND (a very, very brief and skippable overview of) SIGNAL SPACES\n",
    "\n",
    "In order to achieve the goal, we distinguish between two different types of signals: **analog signals** as the ones that occur around us in the real world and **digital signals** as are processed by computers. How signals can be modified and combined to yield new signals by applying mathematical operations? Some operations can be applied only if the involved signals satisfy certain properties. That leads to the concept of **signal spaces**, a kind of universe that comprises signals that share a certain property. \n",
    "\n",
    "## 1.2.1 Analog Signals\n",
    "\n",
    "An **analog** signal is a function $f:\\mathbb{R}\\rightarrow\\mathbb{R}$, which assigns an amplitude value $f(t)\\in\\mathbb{R}$ to each time point $t\\in\\mathbb{R}$. In the analog case, both the time domain as well as the range of amplitude values are represented by the set $\\mathbb{R}$ of real numbers, which is a continuous range of values. This makes it possible to model infinitesimally small changes in both time and amplitude. In the case of having a continuous time axis (given by $\\mathbb{R}$), one also speaks of **continuous-time** signals. A signal is called **periodic** with **period** $\\lambda\\in\\mathbb{R}_{>0}$ if $f(t)= f(t+\\lambda)$ holds for all $t\\in\\mathbb{R}$.\n",
    "\n",
    "We will encounter an entire class of analog signals: the *sinusoid*. This is a periodic function $f$ defined by $f(t):=A\\sin (2\\pi(\\omega t - \\varphi)), t\\in\\mathbb{R}$. The parameter $A$ describes the *amplitude*, the parameter $\\omega$ the *frequency*, and the parameter $\\varphi$ the *phase*. Well, remembering this equation will give a moment of confusion in Chapter 3, which I'll discuss there.\n",
    "\n",
    "Besides having a compact description, sinusoids also have an explicit physical meaning with a perceptual correspondence: the amplitude $A$ corresponds to the loudness and the frequency $\\omega$ to the pitch of a sinusoidal sound. Only the phase $\\varphi$, which indicates the relative position of an oscillation within its cycle, does *not* have a direct perceptual correspondence. Note that, because of the periodicity of a sinusoid, a phase shift by $\\varphi + 1$ have the same effect as a phase shift by $\\varphi$. In other words, integer shifts leave a sinusoid unaltered.\n",
    "\n",
    "Regarding a signal as a mathematical function is convenient, since this allows us to express modifications of signals in terms of mathematical operations. For example, the **superposition** of two signals $f$ and $g$ can be expressed by the sum $f+g$ defined as a pointwise addition $$(f+g)(t) := f(t) + g(t)$$ for $t\\in\\mathbb{R}$. Similarly, the **scaling** of a signal $f$ and $g$ by a real factor $a$ is the scalar multiple $af$, which is also defined pointwise by $$(af)(t):=a\\cdot f(t)$$"
   ]
  },
  {
   "cell_type": "markdown",
   "metadata": {},
   "source": [
    "## 1.2.2 Digital Signals\n",
    "Analog signals have a continuous range of values in both time and amplitude, which generally leads to an infinite number of values. Since a computer can only store and process a finite number of values, one has to convert the waveform into some *discrete* representation - a process commonly referred to as **digitalization**. Some analog signals such as sinusoids are already characterized by a small number of parameters. Furthermore, it should be possible to perform signal manipulation directly in the parameter domain such that computations become feasible and efficient. The most common approach for digitalizing audio signal consists of two steps called **sampling** and **quantization**. We will take an in-depth look into these in the next chapter."
   ]
  },
  {
   "cell_type": "markdown",
   "metadata": {},
   "source": [
    "[Onward to Chapter 2](./03_Signals_Sound_and_Filters_A1C2.ipynb)\n",
    "\n",
    "*(not a mistake, you can skip the next and save yourself a headache)*"
   ]
  },
  {
   "cell_type": "markdown",
   "metadata": {},
   "source": [
    "## 1.2.3 Signal Spaces\n",
    "\n",
    "In mathematical dynamics, **discrete time** and **continuous time** are two alternative frameworks within which to model variables that evolve over time. \n",
    "\n",
    "Well, around few lines down is the point where almost everyone interested in sound synthesis and manipulation gets drowned in the math behind it and/or loses all hope of understanding the underlaying principles. All that I'm going to do here is to provide a list of spaces with a stunningly short and incomplete overview. One can completely skip the following and still enjoy the next chapters.\n",
    "\n",
    "But each item on the list is a stepping stone that leads to the better understanding of the Fourier transform. I'm including these as a bread crumb fork in the study for the curious minded.\n",
    "Here we go:\n",
    "* **Complex numbers** - Various computation rules for complex numbers extend the notion of real-valued signals. Each complex-valued signal can be considered as a pair of two real-valued signals. Furthermore, each real-valued signal can be regarded as a complex-valued signal simply by defining the imaginary part to be zero. The complex numbers spaces for **continuous time** and **discrete time** signals are defined as $\\mathbb{C}^{\\mathbb{R}}:=\\{f|f:\\mathbb{R}\\rightarrow \\mathbb{C}\\}$ and $\\mathbb{C}^{\\mathbb{Z}}:=\\{f|f:\\mathbb{Z}\\rightarrow \\mathbb{C}\\}$.\n",
    "* **Vector Spaces** - just like the definitions of adding two signals and a scalar multiplication of a real factor and a signal carry over from operations in the $\\mathbb{R}$ space, the definitions of complex summation and multiplication carry over directly to the case of complex-valued signals. That makes $\\mathbb{C}^\\mathbb{R}$ a vector space over $\\mathbb{C}$. Similarly, one can define addition and scalar multiplication in the **DT** case, making $\\mathbb{C}^\\mathbb{Z}$ a vector space over $\\mathbb{C}$. Knowledge about the additional structure called **inner product** will make the next items on this list more understandable. \n",
    "* **The Space $\\ell^2(\\mathbb{Z})$** - is defined to be the set of all signals having finite energy. Also referred as the space of **square-summable** sequences.\n",
    "* **The Space $L^2(\\mathbb{R})$** - when summation becomes integration(in the continuous time case), the **Lebesgue integral** can be defined for a class of signals called **measurable**. Also referred as **square-integrable functions**.\n",
    "* **The Space $L^2([0, 1))$** - this space deals with **periodic signals**.\n",
    "* **Hilbert Spaces** - a vector space that satisfies the three axiomatic conditions(**positive definite, conjugate symmetric** and **$\\mathbb{C}$-linear**). The previous three spaces above are a special cases of the Hilbert space. Here are defined the **orthonormal bases**. The Fourier transforms for DT-signals and periodic CT-signals are based on very specific choices of such ON-bases."
   ]
  }
 ],
 "metadata": {
  "kernelspec": {
   "display_name": "Python 3",
   "language": "python",
   "name": "python3"
  },
  "language_info": {
   "codemirror_mode": {
    "name": "ipython",
    "version": 3
   },
   "file_extension": ".py",
   "mimetype": "text/x-python",
   "name": "python",
   "nbconvert_exporter": "python",
   "pygments_lexer": "ipython3",
   "version": "3.7.4"
  }
 },
 "nbformat": 4,
 "nbformat_minor": 2
}

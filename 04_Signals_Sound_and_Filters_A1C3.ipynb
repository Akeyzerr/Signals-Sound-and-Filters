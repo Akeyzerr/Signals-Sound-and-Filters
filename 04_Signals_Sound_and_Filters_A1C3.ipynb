{
 "cells": [
  {
   "cell_type": "code",
   "execution_count": 1,
   "metadata": {},
   "outputs": [],
   "source": [
    "%matplotlib inline"
   ]
  },
  {
   "cell_type": "code",
   "execution_count": 2,
   "metadata": {},
   "outputs": [],
   "source": [
    "    from ssf_code import *"
   ]
  },
  {
   "cell_type": "markdown",
   "metadata": {},
   "source": [
    "This part of the project uses the **sounddevice** module.\n",
    "Please use ```conda install -c conda-forge python-sounddevice``` or ```pip install sounddevice``` to install the module.\n",
    "More info about the module: https://python-sounddevice.readthedocs.io/en/0.3.15/installation.html\n"
   ]
  },
  {
   "cell_type": "code",
   "execution_count": 3,
   "metadata": {},
   "outputs": [
    {
     "data": {
      "text/plain": [
       "> 0 Built-in Microphone, Core Audio (2 in, 0 out)\n",
       "< 1 Built-in Output, Core Audio (0 in, 2 out)"
      ]
     },
     "execution_count": 3,
     "metadata": {},
     "output_type": "execute_result"
    }
   ],
   "source": [
    "# This should output your audio devices\n",
    "sd.query_devices()"
   ]
  },
  {
   "cell_type": "markdown",
   "metadata": {},
   "source": [
    "    * Back to [Introduction](./01_Signals_Sound_and_Filters_Intro.ipynb)"
   ]
  },
  {
   "cell_type": "markdown",
   "metadata": {},
   "source": [
    "### ACT I, Chapter III\n",
    "# 3.1 GENERATING SOUND IN PYTHON"
   ]
  },
  {
   "cell_type": "markdown",
   "metadata": {},
   "source": [
    "And now to generate a sinusoidal wave with a given frequency and sample rate we'll be using:\n",
    "$$ y = A \\sin (\\omega t + \\phi) = A \\sin(2\\pi f t + \\phi )$$\n",
    "Where:\n",
    "- $A$ is amplitude\n",
    "- $\\omega$ is the angular frequency, which can be represented as $2\\pi f$(where $f$ is the signal frequency);\n",
    "- $\\phi$ is phase, and we will ignore it for now\n",
    "\n",
    "Remember the formula for the sinusoidal signal from Chapter 1.2.1? That one: \n",
    "$$f(t):=A\\sin (2\\pi(\\omega t - \\varphi)), t\\in\\mathbb{R}$$\n",
    "\n",
    "Well, the discrepancy comes because we're mixing notions from physics, engineering(signal processing) and math(and programming). And every side has it's own spin on the notation and formulas. In general $\\omega$ is used to denote the *angular frequency*(measured in radians per second), which is equal to **\"$2\\pi$ times the ordinary frequency\"**. The ordinary frequency is often denoted by $\\nu$ and in the world of programming it is often denoted by $f$ for \"convenience\"... and is measured in Herz... And lets skip the $\\phi$ and $\\varphi$ usage. Rant over, let's continue."
   ]
  },
  {
   "cell_type": "code",
   "execution_count": null,
   "metadata": {},
   "outputs": [],
   "source": [
    "sample_rate = 8000\n",
    "frequency = 440\n",
    "duration = .10\n",
    "T = 1/sample_rate # time duration of 1 sample; we need this to generate the \"duration timeline\"\n",
    "N = sample_rate * duration # data points per lenght;\n",
    "AMPL = 1 # the amplitude\n",
    "omega = 2*pi*frequency\n",
    "timeline = np.arange(0, duration, T)\n",
    "freq_datapoints = np.sin(omega*timeline)*AMPL\n",
    "plt.plot(timeline, freq_datapoints)\n",
    "plt.grid(False)\n",
    "decorate(title=\"Sinusoidal audio waveform\", xlabel=\"Time(seconds)\", ylabel=\"Amplitude\")\n",
    "plt.show()\n",
    "print(freq_datapoints)"
   ]
  },
  {
   "cell_type": "markdown",
   "metadata": {},
   "source": [
    "So far, so good. All of the above code is wrapped in the function ```make_wave``` in the accompanying ```ssf_code.py```\n",
    "Now let's make a new wave and this time we'll get to see and hear the result."
   ]
  },
  {
   "cell_type": "code",
   "execution_count": null,
   "metadata": {},
   "outputs": [],
   "source": [
    "sample_rate = 3000\n",
    "frequency = 6000\n",
    "duration = .15\n",
    "sin_wave_data = make_wave(frequency, sample_rate, duration)\n",
    "plot_play(sin_wave_data[0], sin_wave_data[1], sample_rate)\n",
    "widget = Audio(sin_wave_data[0], rate=sample_rate)\n",
    "widget"
   ]
  },
  {
   "cell_type": "markdown",
   "metadata": {},
   "source": [
    "Oh, no! Doesn't sound and look like we expected. And that is because we tried to generate a pure tone with frequency that is above the sampling rate. That's why we need antialiasing, or we have to chose these values for $f$, that are two times below the sampling rate value."
   ]
  },
  {
   "cell_type": "code",
   "execution_count": null,
   "metadata": {},
   "outputs": [],
   "source": [
    "sample_rate = 22050\n",
    "frequency = 6000\n",
    "duration = .5\n",
    "amplitude = .2 # to make it not so loud\n",
    "sin_wave_data = make_wave(frequency, sample_rate, duration, ampl=amplitude)\n",
    "plot_play(sin_wave_data[0], sin_wave_data[1], sample_rate, ampl=amplitude)\n",
    "widget = Audio(sin_wave_data[0], rate=sample_rate)\n",
    "widget"
   ]
  },
  {
   "cell_type": "markdown",
   "metadata": {},
   "source": [
    "## 3.2 Now let's manipulate the sound in some basic ways\n",
    "\n",
    "First, let's make a pure-tone 1kHz wave, with sampling rate 8kHz and .2sec duration. Notice the poping sound at the end of the playback."
   ]
  },
  {
   "cell_type": "code",
   "execution_count": null,
   "metadata": {},
   "outputs": [],
   "source": [
    "f1 = make_wave(1000, 8000, .2)\n",
    "plot_play(f1[0], f1[1], sample_rate)\n",
    "widget1 = Audio(f1[0], rate=sample_rate)\n",
    "widget1"
   ]
  },
  {
   "cell_type": "markdown",
   "metadata": {},
   "source": [
    "In order to make it sound more smoothly and to avoid the abrupt end, we'll apply some linear fades."
   ]
  },
  {
   "cell_type": "code",
   "execution_count": null,
   "metadata": {},
   "outputs": [],
   "source": [
    "f2 = fades(f1, 8000, denom=15)\n",
    "plot_play(f2[0], f2[1], sample_rate)\n",
    "# This is almost what is happening behind the scenes: \n",
    "# envelope1 = np.hanning(len(t_seq))\n",
    "# f2 = f1 * envelope1\n",
    "# The fades() function does not use a Hanning curve, but a linear one\n",
    "widget2 = Audio(f2[0], rate=sample_rate)\n",
    "widget2"
   ]
  },
  {
   "cell_type": "markdown",
   "metadata": {},
   "source": [
    "And now lets use all of the above to make a compound wave:"
   ]
  },
  {
   "cell_type": "code",
   "execution_count": null,
   "metadata": {
    "scrolled": true
   },
   "outputs": [],
   "source": [
    "fund = 440\n",
    "sr = 22050\n",
    "dur = .05\n",
    "ampli = .85\n",
    "frequencies = [440, 880, 1760, 3520]\n",
    "print(frequencies)\n",
    "sub = make_wave(275, sr, dur, ampl=.05)\n",
    "fc1 = make_wave(fund, sr, dur, ampli)\n",
    "fc1[0] += sub[0]\n",
    "\n",
    "for i in range(len(frequencies)):\n",
    "    f = make_wave(frequencies[i], sr, dur, ampl=ampli-(i/(i+1)))\n",
    "    fc1[0] += f[0]\n",
    "                  \n",
    "fc1 = fades(fc1, sr)\n",
    "plot_play(fc1[0], fc1[1], sr)\n",
    "widget = Audio(fc1[0], rate=sr*.5045606740)\n",
    "widget"
   ]
  },
  {
   "cell_type": "markdown",
   "metadata": {},
   "source": [
    "# 3.3 LOADING AUDIO FILES\n",
    "## USING THINKDSP MODULE\n",
    "\n",
    "All is fine and dandy with the generated signals, but we'll need a real-world examples for the next chapter.\n",
    "Going further in the project I'll make use of the wonderful ThinkDSP module by Allen Downing."
   ]
  },
  {
   "cell_type": "code",
   "execution_count": null,
   "metadata": {},
   "outputs": [],
   "source": [
    "guitar_s1 = read_wave('./_audio/guitar_sample.wav')\n",
    "# wave.normalize()\n",
    "guitar_s1.plot()\n",
    "guitar_s1.make_audio()\n",
    "print(guitar_s1)"
   ]
  },
  {
   "cell_type": "markdown",
   "metadata": {},
   "source": [
    "The next example computes the spectrum of the audio sample. Comming in next, we'll explore that exact topic. The best [is yet to come!](./05_Signals_Sound_and_Filters_A2C1.ipynb)"
   ]
  },
  {
   "cell_type": "code",
   "execution_count": null,
   "metadata": {},
   "outputs": [],
   "source": [
    "spec_guitar = guitar_s1.make_spectrum()\n",
    "spec_guitar.plot(high=1000)\n",
    "decorate(title=\"A wild spectrogram appears\")"
   ]
  }
 ],
 "metadata": {
  "kernelspec": {
   "display_name": "Python 3",
   "language": "python",
   "name": "python3"
  },
  "language_info": {
   "codemirror_mode": {
    "name": "ipython",
    "version": 3
   },
   "file_extension": ".py",
   "mimetype": "text/x-python",
   "name": "python",
   "nbconvert_exporter": "python",
   "pygments_lexer": "ipython3",
   "version": "3.8.8"
  }
 },
 "nbformat": 4,
 "nbformat_minor": 2
}

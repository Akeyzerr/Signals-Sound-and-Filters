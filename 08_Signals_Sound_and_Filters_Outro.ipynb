{
 "cells": [
  {
   "cell_type": "markdown",
   "metadata": {},
   "source": [
    "# AKNOWLEDGEMENTS"
   ]
  },
  {
   "cell_type": "markdown",
   "metadata": {},
   "source": [
    "This project is based upon the works of:\n",
    "* ThinkDPS by Allen Downey\n",
    "* ThinkPython by Allen Downey\n",
    "* Fundamentals of Music Processing by Meinard Müller\n",
    "* Audio Metering - Measurements, Standards and Practices, 2nd Edition, by Eddy Brixen"
   ]
  },
  {
   "cell_type": "markdown",
   "metadata": {},
   "source": [
    "This project would not become a reality without SoftUni's course **Math Concepts for Developers with Yordan Darakchiev**"
   ]
  },
  {
   "cell_type": "markdown",
   "metadata": {},
   "source": [
    "This project is a student thesis and cannot be used for commercial gains."
   ]
  },
  {
   "cell_type": "markdown",
   "metadata": {},
   "source": [
    "[Back to Introduction](./01_Signals_Sound_and_Filters_Intro.ipynb)"
   ]
  }
 ],
 "metadata": {
  "kernelspec": {
   "display_name": "Python 3",
   "language": "python",
   "name": "python3"
  },
  "language_info": {
   "codemirror_mode": {
    "name": "ipython",
    "version": 3
   },
   "file_extension": ".py",
   "mimetype": "text/x-python",
   "name": "python",
   "nbconvert_exporter": "python",
   "pygments_lexer": "ipython3",
   "version": "3.7.4"
  }
 },
 "nbformat": 4,
 "nbformat_minor": 2
}
